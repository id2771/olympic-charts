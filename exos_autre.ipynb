{
 "cells": [
  {
   "cell_type": "code",
   "execution_count": 2,
   "id": "897b7d54",
   "metadata": {},
   "outputs": [
    {
     "data": {
      "text/html": [
       "<div>\n",
       "<style scoped>\n",
       "    .dataframe tbody tr th:only-of-type {\n",
       "        vertical-align: middle;\n",
       "    }\n",
       "\n",
       "    .dataframe tbody tr th {\n",
       "        vertical-align: top;\n",
       "    }\n",
       "\n",
       "    .dataframe thead th {\n",
       "        text-align: right;\n",
       "    }\n",
       "</style>\n",
       "<table border=\"1\" class=\"dataframe\">\n",
       "  <thead>\n",
       "    <tr style=\"text-align: right;\">\n",
       "      <th></th>\n",
       "      <th>Pays</th>\n",
       "      <th>NOC</th>\n",
       "      <th>PIB</th>\n",
       "    </tr>\n",
       "  </thead>\n",
       "  <tbody>\n",
       "    <tr>\n",
       "      <th>0</th>\n",
       "      <td>FRANCE</td>\n",
       "      <td>FRA</td>\n",
       "      <td>30€</td>\n",
       "    </tr>\n",
       "    <tr>\n",
       "      <th>1</th>\n",
       "      <td>United States</td>\n",
       "      <td>USA</td>\n",
       "      <td>2€</td>\n",
       "    </tr>\n",
       "    <tr>\n",
       "      <th>2</th>\n",
       "      <td>ENGlAND</td>\n",
       "      <td>ENG</td>\n",
       "      <td>9€</td>\n",
       "    </tr>\n",
       "  </tbody>\n",
       "</table>\n",
       "</div>"
      ],
      "text/plain": [
       "            Pays  NOC  PIB\n",
       "0         FRANCE  FRA  30€\n",
       "1  United States  USA   2€\n",
       "2        ENGlAND  ENG   9€"
      ]
     },
     "execution_count": 2,
     "metadata": {},
     "output_type": "execute_result"
    }
   ],
   "source": [
    "import pandas as pd\n",
    "\n",
    "# petit exo, créer un DataFrame\n",
    "\n",
    "df = pd.DataFrame({\n",
    "    'Pays' : ['FRANCE','United States','ENGlAND'],\n",
    "    'NOC' : ['FRA','USA','ENG'], \n",
    "    'PIB' : ['30€','2€','9€']\n",
    "        }\n",
    ")\n",
    "\n",
    "df"
   ]
  },
  {
   "cell_type": "code",
   "execution_count": null,
   "id": "5e282f7d",
   "metadata": {},
   "outputs": [],
   "source": [
    "df.loc[1,'NOC'] = '40€'"
   ]
  },
  {
   "cell_type": "code",
   "execution_count": 23,
   "id": "785e1f6b",
   "metadata": {},
   "outputs": [
    {
     "data": {
      "text/html": [
       "<div>\n",
       "<style scoped>\n",
       "    .dataframe tbody tr th:only-of-type {\n",
       "        vertical-align: middle;\n",
       "    }\n",
       "\n",
       "    .dataframe tbody tr th {\n",
       "        vertical-align: top;\n",
       "    }\n",
       "\n",
       "    .dataframe thead th {\n",
       "        text-align: right;\n",
       "    }\n",
       "</style>\n",
       "<table border=\"1\" class=\"dataframe\">\n",
       "  <thead>\n",
       "    <tr style=\"text-align: right;\">\n",
       "      <th></th>\n",
       "      <th>Pays</th>\n",
       "      <th>NOC</th>\n",
       "      <th>PIB</th>\n",
       "      <th>wesh</th>\n",
       "      <th>super</th>\n",
       "    </tr>\n",
       "  </thead>\n",
       "  <tbody>\n",
       "    <tr>\n",
       "      <th>0</th>\n",
       "      <td>FRANCE</td>\n",
       "      <td>FRA</td>\n",
       "      <td>30€</td>\n",
       "      <td>0</td>\n",
       "      <td>0.1</td>\n",
       "    </tr>\n",
       "    <tr>\n",
       "      <th>1</th>\n",
       "      <td>United States</td>\n",
       "      <td>40€</td>\n",
       "      <td>2€</td>\n",
       "      <td>666</td>\n",
       "      <td>0.4</td>\n",
       "    </tr>\n",
       "    <tr>\n",
       "      <th>2</th>\n",
       "      <td>ENGlAND</td>\n",
       "      <td>ENG</td>\n",
       "      <td>9€</td>\n",
       "      <td>0</td>\n",
       "      <td>0.5</td>\n",
       "    </tr>\n",
       "  </tbody>\n",
       "</table>\n",
       "</div>"
      ],
      "text/plain": [
       "            Pays  NOC  PIB  wesh  super\n",
       "0         FRANCE  FRA  30€     0    0.1\n",
       "1  United States  40€   2€   666    0.4\n",
       "2        ENGlAND  ENG   9€     0    0.5"
      ]
     },
     "execution_count": 23,
     "metadata": {},
     "output_type": "execute_result"
    }
   ],
   "source": [
    "df"
   ]
  },
  {
   "cell_type": "code",
   "execution_count": 10,
   "id": "4ae3c52b",
   "metadata": {},
   "outputs": [],
   "source": [
    "df['wesh'] = 0"
   ]
  },
  {
   "cell_type": "code",
   "execution_count": 12,
   "id": "272cdf09",
   "metadata": {},
   "outputs": [],
   "source": [
    "df.loc[1,'wesh'] = 666"
   ]
  },
  {
   "cell_type": "code",
   "execution_count": 19,
   "id": "1d7f9bce",
   "metadata": {},
   "outputs": [],
   "source": [
    "df['super'] = [0.1, 0.4, 0.5]"
   ]
  }
 ],
 "metadata": {
  "kernelspec": {
   "display_name": "Python 3",
   "language": "python",
   "name": "python3"
  },
  "language_info": {
   "codemirror_mode": {
    "name": "ipython",
    "version": 3
   },
   "file_extension": ".py",
   "mimetype": "text/x-python",
   "name": "python",
   "nbconvert_exporter": "python",
   "pygments_lexer": "ipython3",
   "version": "3.12.9"
  }
 },
 "nbformat": 4,
 "nbformat_minor": 5
}
