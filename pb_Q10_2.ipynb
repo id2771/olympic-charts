{
 "cells": [
  {
   "cell_type": "code",
   "execution_count": 9,
   "id": "33fcdf5f",
   "metadata": {},
   "outputs": [],
   "source": [
    "import pandas as pd\n",
    "\n",
    "noc_regions = pd.read_csv(\"noc_regions.csv\")"
   ]
  },
  {
   "cell_type": "code",
   "execution_count": 10,
   "id": "e70bf698",
   "metadata": {},
   "outputs": [],
   "source": [
    "# ci-dessous : on importe le dataframe du monde (en vue d'afficher la carte)\n",
    "\n",
    "import geopandas as gpd\n",
    "import matplotlib.pyplot as plt\n",
    "\n",
    "url = \"https://naciscdn.org/naturalearth/110m/cultural/ne_110m_admin_0_countries.zip\"\n",
    "world = gpd.read_file(url)"
   ]
  },
  {
   "cell_type": "code",
   "execution_count": 11,
   "id": "beafcebb",
   "metadata": {},
   "outputs": [],
   "source": [
    "# dictionnaire pour faire matcher \"region\" de noc_regions avec \"SOVEREIGNT\" de world \n",
    "\n",
    "overrides = { \n",
    "    \"USA\" : \"United States of America\",\n",
    "    \"Trinidad\" : \"Trinidad and Tobago\",\n",
    "    \"Serbia\": \"Republic of Serbia\",\n",
    "    \"Tanzania\" : \"United Republic of Tanzania\", \n",
    "    \"UK\" : \"United Kingdom\",\n",
    "    \"Bahamas\" : \"The Bahamas\", \n",
    "    \"Macedonia\" : \"North Macedonia\",\n",
    "    \"Czech Republic\" : \"Czechia\" \n",
    "}"
   ]
  },
  {
   "cell_type": "code",
   "execution_count": 12,
   "id": "1b901d8e",
   "metadata": {},
   "outputs": [
    {
     "data": {
      "text/html": [
       "<div>\n",
       "<style scoped>\n",
       "    .dataframe tbody tr th:only-of-type {\n",
       "        vertical-align: middle;\n",
       "    }\n",
       "\n",
       "    .dataframe tbody tr th {\n",
       "        vertical-align: top;\n",
       "    }\n",
       "\n",
       "    .dataframe thead th {\n",
       "        text-align: right;\n",
       "    }\n",
       "</style>\n",
       "<table border=\"1\" class=\"dataframe\">\n",
       "  <thead>\n",
       "    <tr style=\"text-align: right;\">\n",
       "      <th></th>\n",
       "      <th>region</th>\n",
       "      <th>NOC</th>\n",
       "      <th>SOV_A3</th>\n",
       "      <th>SOVEREIGNT</th>\n",
       "    </tr>\n",
       "  </thead>\n",
       "  <tbody>\n",
       "    <tr>\n",
       "      <th>0</th>\n",
       "      <td>USA</td>\n",
       "      <td>USA</td>\n",
       "      <td>US1</td>\n",
       "      <td>United States of America</td>\n",
       "    </tr>\n",
       "    <tr>\n",
       "      <th>1</th>\n",
       "      <td>USA</td>\n",
       "      <td>USA</td>\n",
       "      <td>US1</td>\n",
       "      <td>United States of America</td>\n",
       "    </tr>\n",
       "    <tr>\n",
       "      <th>2</th>\n",
       "      <td>Trinidad</td>\n",
       "      <td>TTO</td>\n",
       "      <td>TTO</td>\n",
       "      <td>Trinidad and Tobago</td>\n",
       "    </tr>\n",
       "    <tr>\n",
       "      <th>3</th>\n",
       "      <td>Trinidad</td>\n",
       "      <td>WIF</td>\n",
       "      <td>TTO</td>\n",
       "      <td>Trinidad and Tobago</td>\n",
       "    </tr>\n",
       "    <tr>\n",
       "      <th>4</th>\n",
       "      <td>Serbia</td>\n",
       "      <td>SCG</td>\n",
       "      <td>SRB</td>\n",
       "      <td>Republic of Serbia</td>\n",
       "    </tr>\n",
       "    <tr>\n",
       "      <th>5</th>\n",
       "      <td>Serbia</td>\n",
       "      <td>SRB</td>\n",
       "      <td>SRB</td>\n",
       "      <td>Republic of Serbia</td>\n",
       "    </tr>\n",
       "    <tr>\n",
       "      <th>6</th>\n",
       "      <td>Serbia</td>\n",
       "      <td>YUG</td>\n",
       "      <td>SRB</td>\n",
       "      <td>Republic of Serbia</td>\n",
       "    </tr>\n",
       "    <tr>\n",
       "      <th>7</th>\n",
       "      <td>Tanzania</td>\n",
       "      <td>TAN</td>\n",
       "      <td>TZA</td>\n",
       "      <td>United Republic of Tanzania</td>\n",
       "    </tr>\n",
       "    <tr>\n",
       "      <th>8</th>\n",
       "      <td>UK</td>\n",
       "      <td>GBR</td>\n",
       "      <td>GB1</td>\n",
       "      <td>United Kingdom</td>\n",
       "    </tr>\n",
       "    <tr>\n",
       "      <th>9</th>\n",
       "      <td>UK</td>\n",
       "      <td>GBR</td>\n",
       "      <td>GB1</td>\n",
       "      <td>United Kingdom</td>\n",
       "    </tr>\n",
       "    <tr>\n",
       "      <th>10</th>\n",
       "      <td>Bahamas</td>\n",
       "      <td>BAH</td>\n",
       "      <td>BHS</td>\n",
       "      <td>The Bahamas</td>\n",
       "    </tr>\n",
       "    <tr>\n",
       "      <th>11</th>\n",
       "      <td>Macedonia</td>\n",
       "      <td>MKD</td>\n",
       "      <td>MKD</td>\n",
       "      <td>North Macedonia</td>\n",
       "    </tr>\n",
       "    <tr>\n",
       "      <th>12</th>\n",
       "      <td>Czech Republic</td>\n",
       "      <td>BOH</td>\n",
       "      <td>CZE</td>\n",
       "      <td>Czechia</td>\n",
       "    </tr>\n",
       "    <tr>\n",
       "      <th>13</th>\n",
       "      <td>Czech Republic</td>\n",
       "      <td>CZE</td>\n",
       "      <td>CZE</td>\n",
       "      <td>Czechia</td>\n",
       "    </tr>\n",
       "    <tr>\n",
       "      <th>14</th>\n",
       "      <td>Czech Republic</td>\n",
       "      <td>TCH</td>\n",
       "      <td>CZE</td>\n",
       "      <td>Czechia</td>\n",
       "    </tr>\n",
       "  </tbody>\n",
       "</table>\n",
       "</div>"
      ],
      "text/plain": [
       "            region  NOC SOV_A3                   SOVEREIGNT\n",
       "0              USA  USA    US1     United States of America\n",
       "1              USA  USA    US1     United States of America\n",
       "2         Trinidad  TTO    TTO          Trinidad and Tobago\n",
       "3         Trinidad  WIF    TTO          Trinidad and Tobago\n",
       "4           Serbia  SCG    SRB           Republic of Serbia\n",
       "5           Serbia  SRB    SRB           Republic of Serbia\n",
       "6           Serbia  YUG    SRB           Republic of Serbia\n",
       "7         Tanzania  TAN    TZA  United Republic of Tanzania\n",
       "8               UK  GBR    GB1               United Kingdom\n",
       "9               UK  GBR    GB1               United Kingdom\n",
       "10         Bahamas  BAH    BHS                  The Bahamas\n",
       "11       Macedonia  MKD    MKD              North Macedonia\n",
       "12  Czech Republic  BOH    CZE                      Czechia\n",
       "13  Czech Republic  CZE    CZE                      Czechia\n",
       "14  Czech Republic  TCH    CZE                      Czechia"
      ]
     },
     "execution_count": 12,
     "metadata": {},
     "output_type": "execute_result"
    }
   ],
   "source": [
    "# je souhaite créer un dataframe avec 4 colonnes :\n",
    "# region et NOC de noc_regions\n",
    "# SOV_A3 et SOVEREIGNT de world\n",
    "\n",
    "\n",
    "import pandas as pd\n",
    "\n",
    "\n",
    "df = (pd.DataFrame\n",
    "    .from_dict(overrides,\n",
    "    orient = 'index',\n",
    "    columns = [\"SOVEREIGNT\"])\n",
    ".reset_index()\n",
    ".rename(columns = {\"index\" : \"short_names\"})\n",
    ")\n",
    "\n",
    "df = df.merge(\n",
    "    world[[\"SOVEREIGNT\", \"SOV_A3\"]],\n",
    "    on = \"SOVEREIGNT\", \n",
    "    how = 'left'\n",
    ")\n",
    "\n",
    "df = df.merge(\n",
    "    noc_regions[['NOC','region']],\n",
    "    left_on = \"short_names\",\n",
    "    right_on = \"region\",\n",
    "    how = 'left'\n",
    ")\n",
    "\n",
    "result = df[['region','NOC', 'SOV_A3', 'SOVEREIGNT']]\n",
    "result"
   ]
  },
  {
   "cell_type": "code",
   "execution_count": 13,
   "id": "d3382a61",
   "metadata": {},
   "outputs": [
    {
     "name": "stdout",
     "output_type": "stream",
     "text": [
      "<bound method Series.unique of 0                USA\n",
      "1                USA\n",
      "2           Trinidad\n",
      "3           Trinidad\n",
      "4             Serbia\n",
      "5             Serbia\n",
      "6             Serbia\n",
      "7           Tanzania\n",
      "8                 UK\n",
      "9                 UK\n",
      "10           Bahamas\n",
      "11         Macedonia\n",
      "12    Czech Republic\n",
      "13    Czech Republic\n",
      "14    Czech Republic\n",
      "Name: region, dtype: object>\n"
     ]
    }
   ],
   "source": [
    "print(result['region'].unique)"
   ]
  },
  {
   "cell_type": "code",
   "execution_count": 14,
   "id": "5299e9f4",
   "metadata": {},
   "outputs": [
    {
     "name": "stdout",
     "output_type": "stream",
     "text": [
      "'BHS' -> ['BAH']\n",
      "'CZE' -> ['BOH', 'CZE', 'TCH']\n",
      "'GB1' -> ['GBR']\n",
      "'MKD' -> ['MKD']\n",
      "'SRB' -> ['SCG', 'SRB', 'YUG']\n",
      "'TTO' -> ['TTO', 'WIF']\n",
      "'TZA' -> ['TAN']\n",
      "'US1' -> ['USA']\n"
     ]
    }
   ],
   "source": [
    "# Maintenant l'objectif est de créer un dictionnaire\n",
    "# correspondance SOV_A3 -> NOCs\n",
    "# à partir du dataframe précédent\n",
    "\n",
    "\n",
    "# on sélectionne les colonnes SOV_A3 et NOC, onlève les N/A\n",
    "df_full = df[['SOV_A3', 'NOC']].dropna(subset=['SOV_A3','NOC'])\n",
    "\n",
    "mapping_sov3_to_nocs = (\n",
    "    df_full\n",
    "    .groupby('SOV_A3')['NOC']\n",
    "    .apply(lambda ser: sorted(set(ser)))\n",
    "    .to_dict()\n",
    "    )\n",
    "\n",
    "# print pour vérifier\n",
    "for sov_a3, nocs in mapping_sov3_to_nocs.items():\n",
    "    print(f\"{sov_a3!r} -> {nocs}\")\n"
   ]
  },
  {
   "cell_type": "code",
   "execution_count": 17,
   "id": "92a29608",
   "metadata": {},
   "outputs": [
    {
     "data": {
      "text/plain": [
       "{'BHS': ['BAH'],\n",
       " 'CZE': ['BOH', 'CZE', 'TCH'],\n",
       " 'GB1': ['GBR'],\n",
       " 'MKD': ['MKD'],\n",
       " 'SRB': ['SCG', 'SRB', 'YUG'],\n",
       " 'TTO': ['TTO', 'WIF'],\n",
       " 'TZA': ['TAN'],\n",
       " 'US1': ['USA']}"
      ]
     },
     "execution_count": 17,
     "metadata": {},
     "output_type": "execute_result"
    }
   ],
   "source": [
    "mapping_sov3_to_nocs"
   ]
  },
  {
   "cell_type": "code",
   "execution_count": null,
   "id": "80bc690b",
   "metadata": {},
   "outputs": [
    {
     "data": {
      "text/plain": [
       "{'BAH': 'BHS',\n",
       " 'BOH': 'CZE',\n",
       " 'CZE': 'CZE',\n",
       " 'TCH': 'CZE',\n",
       " 'GBR': 'GB1',\n",
       " 'MKD': 'MKD',\n",
       " 'SCG': 'SRB',\n",
       " 'SRB': 'SRB',\n",
       " 'YUG': 'SRB',\n",
       " 'TTO': 'TTO',\n",
       " 'WIF': 'TTO',\n",
       " 'TAN': 'TZA',\n",
       " 'USA': 'US1'}"
      ]
     },
     "execution_count": 15,
     "metadata": {},
     "output_type": "execute_result"
    }
   ],
   "source": [
    "mapping_nocs_to_sov3 = {}\n",
    "for sov3, nocs in mapping_sov3_to_nocs.items():\n",
    "    for noc in nocs:\n",
    "        mapping_nocs_to_sov3[noc] = sov3\n",
    "\n",
    "mapping_nocs_to_sov3"
   ]
  },
  {
   "cell_type": "code",
   "execution_count": null,
   "id": "87714b77",
   "metadata": {},
   "outputs": [],
   "source": [
    "fix_names = {}"
   ]
  },
  {
   "cell_type": "code",
   "execution_count": 18,
   "id": "d388876e",
   "metadata": {},
   "outputs": [],
   "source": [
    "region_to_sovereign = result.set_index('region')['SOVEREIGNT'].to_dict()"
   ]
  },
  {
   "cell_type": "code",
   "execution_count": 19,
   "id": "b5a2b7bf",
   "metadata": {},
   "outputs": [
    {
     "data": {
      "text/plain": [
       "{'USA': 'United States of America',\n",
       " 'Trinidad': 'Trinidad and Tobago',\n",
       " 'Serbia': 'Republic of Serbia',\n",
       " 'Tanzania': 'United Republic of Tanzania',\n",
       " 'UK': 'United Kingdom',\n",
       " 'Bahamas': 'The Bahamas',\n",
       " 'Macedonia': 'North Macedonia',\n",
       " 'Czech Republic': 'Czechia'}"
      ]
     },
     "execution_count": 19,
     "metadata": {},
     "output_type": "execute_result"
    }
   ],
   "source": [
    "region_to_sovereign"
   ]
  },
  {
   "cell_type": "code",
   "execution_count": null,
   "id": "ac7fc1e8",
   "metadata": {},
   "outputs": [],
   "source": []
  }
 ],
 "metadata": {
  "kernelspec": {
   "display_name": "Python 3",
   "language": "python",
   "name": "python3"
  },
  "language_info": {
   "codemirror_mode": {
    "name": "ipython",
    "version": 3
   },
   "file_extension": ".py",
   "mimetype": "text/x-python",
   "name": "python",
   "nbconvert_exporter": "python",
   "pygments_lexer": "ipython3",
   "version": "3.12.9"
  }
 },
 "nbformat": 4,
 "nbformat_minor": 5
}
