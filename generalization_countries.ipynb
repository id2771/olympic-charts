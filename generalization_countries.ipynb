{
 "cells": [
  {
   "cell_type": "markdown",
   "metadata": {},
   "source": [
    "Objectif : généraliser et automatiser la production de graphique pour chaque pays ayant gagné des médailles\n",
    "\n",
    "\n",
    "Explaining my thought : First I wanted to see the number of medals China got at each Summer Olympic to see if they improved overtime. \n",
    "When I had the graph, I realised there was a spark in 2008 Olympiucs whoch coincides with them hosting the Olympics.\n",
    "This made me question : does hosting the Olympics generally equate to a boost in the number of medals ? I had to do the same graph over and over, so I automated it. "
   ]
  },
  {
   "cell_type": "code",
   "execution_count": 1,
   "metadata": {},
   "outputs": [],
   "source": [
    "# import the packages\n",
    "import pandas as pd\n",
    "import matplotlib.pyplot as plt\n",
    "import os\n",
    "import sys\n",
    "\n",
    "\n",
    "os.chdir(\"/home/onyxia/work/Axel_projet_info\")\n",
    "\n",
    "\n",
    "# import dataframe\n",
    "df = pd.read_csv(\"athlete_events.csv\")\n",
    "noc_df = pd.read_csv(\"noc_regions.csv\")\n",
    "\n",
    "# créer un dictionnaire NOC <-> nom du pays\n",
    "noc_dict = dict(zip(noc_df[\"NOC\"],noc_df[\"region\"]))\n",
    "\n",
    "# Select perfomances with medals (no NA)\n",
    "df_medals = df[df['Medal'].notna()]\n",
    "\n",
    "# select summer editions\n",
    "df_summer = df_medals[df_medals['Season'] == 'Summer']\n",
    "\n",
    "\n",
    "# make a list of the countries\n",
    "countries = df_summer['NOC'].unique()\n",
    "\n",
    "#créer un nouveau dossier pour contenir les photos des graphes\n",
    "os.mkdir(\"/home/onyxia/work/Axel_projet_info/pictures_5\")\n",
    "\n",
    "#se placer dans le nouveau dossier\n",
    "os.chdir(\"/home/onyxia/work/Axel_projet_info/pictures_5\")\n",
    "\n",
    "\n",
    "all_summer_years =  sorted(df_summer['Year'].unique())\n",
    "\n",
    "\n",
    "# boucle\n",
    "for country in countries:\n",
    "    # select the perfomances of the country\n",
    "    df_country = df_summer[df_summer['NOC'] == country]\n",
    "\n",
    "    # group by year and count the number of medals\n",
    "    medals_by_year = df_country.groupby('Year').size()\n",
    "\n",
    "    # Put zero's every edition a country hasn't won a medal\n",
    "    medals_by_year = medals_by_year.reindex(all_summer_years, fill_value=0)\n",
    "\n",
    "    # get the country's name\n",
    "    country_name = noc_dict.get(country, country)\n",
    "\n",
    "    # make a graph\n",
    "    plt.figure(figsize=(12,7))\n",
    "    x = range(len(medals_by_year))\n",
    "    plt.bar(x, medals_by_year.values)\n",
    "    plt.xticks(x, medals_by_year.index)\n",
    "\n",
    "\n",
    "    plt.title(f\"Number of medals {country_name} has won at Summer Olympics\")\n",
    "    plt.xlabel(\"Year\")\n",
    "    plt.ylabel(\"Number of medals\")\n",
    "\n",
    "\n",
    "    plt.tight_layout()\n",
    "    # save the graph picture in a folder\n",
    "    plt.savefig(f\"medals_{country_name}.png\")\n",
    "    plt.close()\n"
   ]
  },
  {
   "cell_type": "code",
   "execution_count": null,
   "metadata": {},
   "outputs": [],
   "source": []
  }
 ],
 "metadata": {
  "kernelspec": {
   "display_name": "base",
   "language": "python",
   "name": "python3"
  },
  "language_info": {
   "codemirror_mode": {
    "name": "ipython",
    "version": 3
   },
   "file_extension": ".py",
   "mimetype": "text/x-python",
   "name": "python",
   "nbconvert_exporter": "python",
   "pygments_lexer": "ipython3",
   "version": "3.12.9"
  }
 },
 "nbformat": 4,
 "nbformat_minor": 2
}
