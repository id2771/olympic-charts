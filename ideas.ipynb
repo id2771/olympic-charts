{
 "cells": [
  {
   "cell_type": "markdown",
   "metadata": {},
   "source": [
    "# Parcours individuels \n",
    "\n",
    "comment identifier des champions nationaux (un sportif qui porte son pays, qui écrase son sport)\n",
    "\n",
    "identifier des grandes rivalités (des sportifs qui se partagent la 1ère ou seconde place)"
   ]
  },
  {
   "cell_type": "markdown",
   "metadata": {},
   "source": [
    "# Construire un indicateur de performance\n",
    "\n",
    "Construire un indicateur de performance qui comprendrait en compte deux choses : \n",
    "- le taux de spécialisation du pays\n",
    "- le nombre de médailles \n"
   ]
  },
  {
   "cell_type": "markdown",
   "metadata": {},
   "source": [
    "# L'évolution des pays\n",
    "\n",
    " On a une montée en puissance de la Chine aux JOs il me semble. Il serait intéressant d'être capable de le montrer (par exemple l'évolution du classement de la Chine au cours du temps). "
   ]
  },
  {
   "cell_type": "markdown",
   "metadata": {},
   "source": [
    "# Différents profils de domination\n",
    "\n",
    "On essaie de mettre en lumière différents profils de domination. Certains pays dominent partout, d'autres dominent dans certains sports seulement. \n",
    "\n",
    "Le taux de spécilisation en lui-même a des limites :  \n",
    "on peut penser que si un pays a un faible taux de spécialisation, alors il est particulièrement équilibré et bon. \n",
    "\n",
    "Mais si il n'a pas bcp gagné de médailles, ce n'est pas la même chose qu'un pays qui gagne beaucoup de médailles ET qui a un faible taux de spécialisation. \n",
    "\n",
    "Si un pays a beaucoup de médailles et qu'il a un faible taux de spécialisation, cela veut dire qu'il est bon dans beaucoup de sports.\n",
    "\n",
    "___\n",
    "\n",
    "Le taux de spécialisation peut être utilisé pour comparer le haut du tableau. Les pays qui sont toujours en haut (Chine, USA, etc). Pour voir si ils sont plutôt bons partout, ou + spécialisés.\n",
    "\n"
   ]
  },
  {
   "cell_type": "markdown",
   "metadata": {},
   "source": [
    "# Longévité du sportif\n",
    "\n",
    "est-ce qu'il y a une corrélation entre le fait de gagner, le fait de gagner beaucoup (ou non) et le fait d'avoir une grande longévité sportive ? donc de faire plusieurs éditions des JO ? \n",
    "est-ce que les athlètes qui sont les meilleurs dans leur sport (ceux avec le plus de médailles) sont ceux qui particient au plus de JO ? \n",
    "quelle est la moyenne du nb de d'éditions des JO jouées par les sportifs ? "
   ]
  },
  {
   "cell_type": "markdown",
   "metadata": {},
   "source": [
    "# Domination d'un pays dans un sport en particulier\n",
    "\n",
    "how can you show the Chinese domination in tennis table ? \n",
    "\n",
    "comment peut-on illustrer la domination des USA au basket, et les fameux moments où les USA ont failli perdre cette domination ? "
   ]
  },
  {
   "cell_type": "markdown",
   "metadata": {},
   "source": [
    "# Comparer les deux premiers. En quoi sont-ils différents\n",
    "La Chine et les USA se partagent la 1ère et la 2nde place. \n",
    "\n",
    "Leurs médailles respectives, ils les ont obtenu dans combien de sports ? et comparer avec une sorte de map visuelle les sports dans lesquels les Chinois ont eu leur médailles et ceux pour les américains. Pour voir en gros si ils se canibalisent (si il y a une complémentarité, genre les chinois ne gagnent pas là où les américains gagnent, etc inversement )"
   ]
  },
  {
   "cell_type": "markdown",
   "metadata": {},
   "source": [
    "Dire pour chaque pays dans quel(s) sport(s) ce pays est bon"
   ]
  },
  {
   "cell_type": "markdown",
   "metadata": {},
   "source": [
    "# Classements\n",
    "Classement du nombre de médailles d'argent, d'or, de bronze à la dernière édition des J0.\n"
   ]
  }
 ],
 "metadata": {
  "language_info": {
   "name": "python"
  }
 },
 "nbformat": 4,
 "nbformat_minor": 2
}
