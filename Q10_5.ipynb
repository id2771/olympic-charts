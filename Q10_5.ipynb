{
 "cells": [
  {
   "cell_type": "code",
   "execution_count": null,
   "id": "d41153ab",
   "metadata": {},
   "outputs": [],
   "source": [
    "# on va créer un nouveau ratio + efficace\n",
    "\n",
    "\n",
    "performance = total_medailles * [1 - ratio_specialisation]"
   ]
  },
  {
   "cell_type": "code",
   "execution_count": null,
   "id": "b521fe79",
   "metadata": {},
   "outputs": [],
   "source": [
    "# indice de Shannon \n",
    "# indice de Simpson"
   ]
  }
 ],
 "metadata": {
  "language_info": {
   "name": "python"
  }
 },
 "nbformat": 4,
 "nbformat_minor": 5
}
